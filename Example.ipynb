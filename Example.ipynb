{
 "cells": [
  {
   "cell_type": "code",
   "execution_count": 1,
   "metadata": {},
   "outputs": [
    {
     "name": "stderr",
     "output_type": "stream",
     "text": [
      "/home/arthur/anaconda3/lib/python3.7/site-packages/pandas/compat/_optional.py:138: UserWarning: Pandas requires version '2.7.0' or newer of 'numexpr' (version '2.6.9' currently installed).\n",
      "  warnings.warn(msg, UserWarning)\n"
     ]
    }
   ],
   "source": [
    "from openfermion.ops import QubitOperator\n",
    "from scipy.linalg import sqrtm, logm, expm\n",
    "from scipy.stats import unitary_group\n",
    "\n",
    "from utils import PauliString, from_matrix, to_matrix\n",
    "from CartanDecomposition import *\n",
    "from CartanDecompositionHamiltonian import *"
   ]
  },
  {
   "cell_type": "markdown",
   "metadata": {},
   "source": [
    "# Часть I. Квантовое разложение Шэннона"
   ]
  },
  {
   "cell_type": "code",
   "execution_count": 2,
   "metadata": {},
   "outputs": [],
   "source": [
    "# Функция вычисляющая вектора касательного пространтства для некоторой матрицы U\n",
    "# и возвращающая их в формате строчных переменных\n",
    "def T_e(U):\n",
    "    u = from_matrix(-logm(U)/1j)\n",
    "    d = U.shape[0]\n",
    "    n_qubits = int(np.log(d)/np.log(2))\n",
    "    return [str(PauliString(term, n_qubits)) for term in u.terms]"
   ]
  },
  {
   "cell_type": "markdown",
   "metadata": {},
   "source": [
    "## Задание произвольной матрицы"
   ]
  },
  {
   "cell_type": "code",
   "execution_count": 3,
   "metadata": {},
   "outputs": [],
   "source": [
    "n_qubits = 5\n",
    "\n",
    "U = unitary_group.rvs(2**n_qubits)\n",
    "U /= np.linalg.det(U)**(1/2**n_qubits)\n",
    "u = from_matrix(-logm(U)/1j)"
   ]
  },
  {
   "cell_type": "markdown",
   "metadata": {},
   "source": [
    "## Разложение Шэннона"
   ]
  },
  {
   "cell_type": "code",
   "execution_count": 4,
   "metadata": {},
   "outputs": [],
   "source": [
    "decomp = QSD(U)"
   ]
  },
  {
   "cell_type": "markdown",
   "metadata": {},
   "source": [
    "## Тест"
   ]
  },
  {
   "cell_type": "code",
   "execution_count": 5,
   "metadata": {},
   "outputs": [
    {
     "name": "stdout",
     "output_type": "stream",
     "text": [
      "0 ['IX', 'IY', 'IZ', 'XI', 'YI', 'ZI']\n",
      "1 ['XX', 'YY', 'ZZ']\n",
      "2 ['IX', 'IY', 'IZ', 'XI', 'YI', 'ZI']\n",
      "3 ['IIZ', 'IZZ', 'ZIZ', 'ZZZ']\n",
      "4 ['IX', 'IY', 'IZ', 'XI', 'YI', 'ZI']\n",
      "5 ['XX', 'YY', 'ZZ']\n",
      "6 ['IX', 'IY', 'IZ', 'XI', 'YI', 'ZI']\n",
      "7 ['IIX', 'IZX', 'ZIX', 'ZZX']\n",
      "8 ['IX', 'IY', 'IZ', 'XI', 'YI', 'ZI']\n",
      "9 ['XX', 'YY', 'ZZ']\n",
      "10 ['IX', 'IY', 'IZ', 'XI', 'YI', 'ZI']\n",
      "11 ['IIZ', 'IZZ', 'ZIZ', 'ZZZ']\n",
      "12 ['IX', 'IY', 'IZ', 'XI', 'YI', 'ZI']\n",
      "13 ['XX', 'YY', 'ZZ']\n",
      "14 ['IX', 'IY', 'IZ', 'XI', 'YI', 'ZI']\n",
      "15 ['IIIZ', 'IIZZ', 'IZIZ', 'IZZZ', 'ZIIZ', 'ZIZZ', 'ZZIZ', 'ZZZZ']\n",
      "16 ['IX', 'IY', 'IZ', 'XI', 'YI', 'ZI']\n",
      "17 ['XX', 'YY', 'ZZ']\n",
      "18 ['IX', 'IY', 'IZ', 'XI', 'YI', 'ZI']\n",
      "19 ['IIZ', 'IZZ', 'ZIZ', 'ZZZ']\n",
      "20 ['IX', 'IY', 'IZ', 'XI', 'YI', 'ZI']\n",
      "21 ['XX', 'YY', 'ZZ']\n",
      "22 ['IX', 'IY', 'IZ', 'XI', 'YI', 'ZI']\n",
      "23 ['IIX', 'IZX', 'ZIX', 'ZZX']\n",
      "24 ['IX', 'IY', 'IZ', 'XI', 'YI', 'ZI']\n",
      "25 ['XX', 'YY', 'ZZ']\n",
      "26 ['IX', 'IY', 'IZ', 'XI', 'YI', 'ZI']\n",
      "27 ['IIZ', 'IZZ', 'ZIZ', 'ZZZ']\n",
      "28 ['IX', 'IY', 'IZ', 'XI', 'YI', 'ZI']\n",
      "29 ['XX', 'YY', 'ZZ']\n",
      "30 ['IX', 'IY', 'IZ', 'XI', 'YI', 'ZI']\n",
      "31 ['IIIX', 'IIZX', 'IZIX', 'IZZX', 'ZIIX', 'ZIZX', 'ZZIX', 'ZZZX']\n",
      "32 ['IX', 'IY', 'IZ', 'XI', 'YI', 'ZI']\n",
      "33 ['XX', 'YY', 'ZZ']\n",
      "34 ['IX', 'IY', 'IZ', 'XI', 'YI', 'ZI']\n",
      "35 ['IIZ', 'IZZ', 'ZIZ', 'ZZZ']\n",
      "36 ['IX', 'IY', 'IZ', 'XI', 'YI', 'ZI']\n",
      "37 ['XX', 'YY', 'ZZ']\n",
      "38 ['IX', 'IY', 'IZ', 'XI', 'YI', 'ZI']\n",
      "39 ['IIX', 'IZX', 'ZIX', 'ZZX']\n",
      "40 ['IX', 'IY', 'IZ', 'XI', 'YI', 'ZI']\n",
      "41 ['XX', 'YY', 'ZZ']\n",
      "42 ['IX', 'IY', 'IZ', 'XI', 'YI', 'ZI']\n",
      "43 ['IIZ', 'IZZ', 'ZIZ', 'ZZZ']\n",
      "44 ['IX', 'IY', 'IZ', 'XI', 'YI', 'ZI']\n",
      "45 ['XX', 'YY', 'ZZ']\n",
      "46 ['IX', 'IY', 'IZ', 'XI', 'YI', 'ZI']\n",
      "47 ['IIIZ', 'IIZZ', 'IZIZ', 'IZZZ', 'ZIIZ', 'ZIZZ', 'ZZIZ', 'ZZZZ']\n",
      "48 ['IX', 'IY', 'IZ', 'XI', 'YI', 'ZI']\n",
      "49 ['XX', 'YY', 'ZZ']\n",
      "50 ['IX', 'IY', 'IZ', 'XI', 'YI', 'ZI']\n",
      "51 ['IIZ', 'IZZ', 'ZIZ', 'ZZZ']\n",
      "52 ['IX', 'IY', 'IZ', 'XI', 'YI', 'ZI']\n",
      "53 ['XX', 'YY', 'ZZ']\n",
      "54 ['IX', 'IY', 'IZ', 'XI', 'YI', 'ZI']\n",
      "55 ['IIX', 'IZX', 'ZIX', 'ZZX']\n",
      "56 ['IX', 'IY', 'IZ', 'XI', 'YI', 'ZI']\n",
      "57 ['XX', 'YY', 'ZZ']\n",
      "58 ['IX', 'IY', 'IZ', 'XI', 'YI', 'ZI']\n",
      "59 ['IIZ', 'IZZ', 'ZIZ', 'ZZZ']\n",
      "60 ['IX', 'IY', 'IZ', 'XI', 'YI', 'ZI']\n",
      "61 ['XX', 'YY', 'ZZ']\n",
      "62 ['IX', 'IY', 'IZ', 'XI', 'YI', 'ZI']\n",
      "63 ['IIIIZ', 'IIIZZ', 'IIZIZ', 'IIZZZ', 'IZIIZ', 'IZIZZ', 'IZZIZ', 'IZZZZ', 'ZIIIZ', 'ZIIZZ', 'ZIZIZ', 'ZIZZZ', 'ZZIIZ', 'ZZIZZ', 'ZZZIZ', 'ZZZZZ']\n",
      "64 ['IX', 'IY', 'IZ', 'XI', 'YI', 'ZI']\n",
      "65 ['XX', 'YY', 'ZZ']\n",
      "66 ['IX', 'IY', 'IZ', 'XI', 'YI', 'ZI']\n",
      "67 ['IIZ', 'IZZ', 'ZIZ', 'ZZZ']\n",
      "68 ['IX', 'IY', 'IZ', 'XI', 'YI', 'ZI']\n",
      "69 ['XX', 'YY', 'ZZ']\n",
      "70 ['IX', 'IY', 'IZ', 'XI', 'YI', 'ZI']\n",
      "71 ['IIX', 'IZX', 'ZIX', 'ZZX']\n",
      "72 ['IX', 'IY', 'IZ', 'XI', 'YI', 'ZI']\n",
      "73 ['XX', 'YY', 'ZZ']\n",
      "74 ['IX', 'IY', 'IZ', 'XI', 'YI', 'ZI']\n",
      "75 ['IIZ', 'IZZ', 'ZIZ', 'ZZZ']\n",
      "76 ['IX', 'IY', 'IZ', 'XI', 'YI', 'ZI']\n",
      "77 ['XX', 'YY', 'ZZ']\n",
      "78 ['IX', 'IY', 'IZ', 'XI', 'YI', 'ZI']\n",
      "79 ['IIIZ', 'IIZZ', 'IZIZ', 'IZZZ', 'ZIIZ', 'ZIZZ', 'ZZIZ', 'ZZZZ']\n",
      "80 ['IX', 'IY', 'IZ', 'XI', 'YI', 'ZI']\n",
      "81 ['XX', 'YY', 'ZZ']\n",
      "82 ['IX', 'IY', 'IZ', 'XI', 'YI', 'ZI']\n",
      "83 ['IIZ', 'IZZ', 'ZIZ', 'ZZZ']\n",
      "84 ['IX', 'IY', 'IZ', 'XI', 'YI', 'ZI']\n",
      "85 ['XX', 'YY', 'ZZ']\n",
      "86 ['IX', 'IY', 'IZ', 'XI', 'YI', 'ZI']\n",
      "87 ['IIX', 'IZX', 'ZIX', 'ZZX']\n",
      "88 ['IX', 'IY', 'IZ', 'XI', 'YI', 'ZI']\n",
      "89 ['XX', 'YY', 'ZZ']\n",
      "90 ['IX', 'IY', 'IZ', 'XI', 'YI', 'ZI']\n",
      "91 ['IIZ', 'IZZ', 'ZIZ', 'ZZZ']\n",
      "92 ['IX', 'IY', 'IZ', 'XI', 'YI', 'ZI']\n",
      "93 ['XX', 'YY', 'ZZ']\n",
      "94 ['IX', 'IY', 'IZ', 'XI', 'YI', 'ZI']\n",
      "95 ['IIIX', 'IIZX', 'IZIX', 'IZZX', 'ZIIX', 'ZIZX', 'ZZIX', 'ZZZX']\n",
      "96 ['IX', 'IY', 'IZ', 'XI', 'YI', 'ZI']\n",
      "97 ['XX', 'YY', 'ZZ']\n",
      "98 ['IX', 'IY', 'IZ', 'XI', 'YI', 'ZI']\n",
      "99 ['IIZ', 'IZZ', 'ZIZ', 'ZZZ']\n",
      "100 ['IX', 'IY', 'IZ', 'XI', 'YI', 'ZI']\n",
      "101 ['XX', 'YY', 'ZZ']\n",
      "102 ['IX', 'IY', 'IZ', 'XI', 'YI', 'ZI']\n",
      "103 ['IIX', 'IZX', 'ZIX', 'ZZX']\n",
      "104 ['IX', 'IY', 'IZ', 'XI', 'YI', 'ZI']\n",
      "105 ['XX', 'YY', 'ZZ']\n",
      "106 ['IX', 'IY', 'IZ', 'XI', 'YI', 'ZI']\n",
      "107 ['IIZ', 'IZZ', 'ZIZ', 'ZZZ']\n",
      "108 ['IX', 'IY', 'IZ', 'XI', 'YI', 'ZI']\n",
      "109 ['XX', 'YY', 'ZZ']\n",
      "110 ['IX', 'IY', 'IZ', 'XI', 'YI', 'ZI']\n",
      "111 ['IIIZ', 'IIZZ', 'IZIZ', 'IZZZ', 'ZIIZ', 'ZIZZ', 'ZZIZ', 'ZZZZ']\n",
      "112 ['IX', 'IY', 'IZ', 'XI', 'YI', 'ZI']\n",
      "113 ['XX', 'YY', 'ZZ']\n",
      "114 ['IX', 'IY', 'IZ', 'XI', 'YI', 'ZI']\n",
      "115 ['IIZ', 'IZZ', 'ZIZ', 'ZZZ']\n",
      "116 ['IX', 'IY', 'IZ', 'XI', 'YI', 'ZI']\n",
      "117 ['XX', 'YY', 'ZZ']\n",
      "118 ['IX', 'IY', 'IZ', 'XI', 'YI', 'ZI']\n",
      "119 ['IIX', 'IZX', 'ZIX', 'ZZX']\n",
      "120 ['IX', 'IY', 'IZ', 'XI', 'YI', 'ZI']\n",
      "121 ['XX', 'YY', 'ZZ']\n",
      "122 ['IX', 'IY', 'IZ', 'XI', 'YI', 'ZI']\n",
      "123 ['IIZ', 'IZZ', 'ZIZ', 'ZZZ']\n",
      "124 ['IX', 'IY', 'IZ', 'XI', 'YI', 'ZI']\n",
      "125 ['XX', 'YY', 'ZZ']\n",
      "126 ['IX', 'IY', 'IZ', 'XI', 'YI', 'ZI']\n",
      "127 ['IIIIX', 'IIIZX', 'IIZIX', 'IIZZX', 'IZIIX', 'IZIZX', 'IZZIX', 'IZZZX', 'ZIIIX', 'ZIIZX', 'ZIZIX', 'ZIZZX', 'ZZIIX', 'ZZIZX', 'ZZZIX', 'ZZZZX']\n",
      "128 ['IX', 'IY', 'IZ', 'XI', 'YI', 'ZI']\n",
      "129 ['XX', 'YY', 'ZZ']\n",
      "130 ['IX', 'IY', 'IZ', 'XI', 'YI', 'ZI']\n",
      "131 ['IIZ', 'IZZ', 'ZIZ', 'ZZZ']\n",
      "132 ['IX', 'IY', 'IZ', 'XI', 'YI', 'ZI']\n",
      "133 ['XX', 'YY', 'ZZ']\n",
      "134 ['IX', 'IY', 'IZ', 'XI', 'YI', 'ZI']\n",
      "135 ['IIX', 'IZX', 'ZIX', 'ZZX']\n",
      "136 ['IX', 'IY', 'IZ', 'XI', 'YI', 'ZI']\n",
      "137 ['XX', 'YY', 'ZZ']\n",
      "138 ['IX', 'IY', 'IZ', 'XI', 'YI', 'ZI']\n",
      "139 ['IIZ', 'IZZ', 'ZIZ', 'ZZZ']\n",
      "140 ['IX', 'IY', 'IZ', 'XI', 'YI', 'ZI']\n",
      "141 ['XX', 'YY', 'ZZ']\n",
      "142 ['IX', 'IY', 'IZ', 'XI', 'YI', 'ZI']\n",
      "143 ['IIIZ', 'IIZZ', 'IZIZ', 'IZZZ', 'ZIIZ', 'ZIZZ', 'ZZIZ', 'ZZZZ']\n",
      "144 ['IX', 'IY', 'IZ', 'XI', 'YI', 'ZI']\n",
      "145 ['XX', 'YY', 'ZZ']\n",
      "146 ['IX', 'IY', 'IZ', 'XI', 'YI', 'ZI']\n",
      "147 ['IIZ', 'IZZ', 'ZIZ', 'ZZZ']\n",
      "148 ['IX', 'IY', 'IZ', 'XI', 'YI', 'ZI']\n",
      "149 ['XX', 'YY', 'ZZ']\n",
      "150 ['IX', 'IY', 'IZ', 'XI', 'YI', 'ZI']\n",
      "151 ['IIX', 'IZX', 'ZIX', 'ZZX']\n",
      "152 ['IX', 'IY', 'IZ', 'XI', 'YI', 'ZI']\n",
      "153 ['XX', 'YY', 'ZZ']\n",
      "154 ['IX', 'IY', 'IZ', 'XI', 'YI', 'ZI']\n",
      "155 ['IIZ', 'IZZ', 'ZIZ', 'ZZZ']\n",
      "156 ['IX', 'IY', 'IZ', 'XI', 'YI', 'ZI']\n",
      "157 ['XX', 'YY', 'ZZ']\n",
      "158 ['IX', 'IY', 'IZ', 'XI', 'YI', 'ZI']\n",
      "159 ['IIIX', 'IIZX', 'IZIX', 'IZZX', 'ZIIX', 'ZIZX', 'ZZIX', 'ZZZX']\n",
      "160 ['IX', 'IY', 'IZ', 'XI', 'YI', 'ZI']\n",
      "161 ['XX', 'YY', 'ZZ']\n",
      "162 ['IX', 'IY', 'IZ', 'XI', 'YI', 'ZI']\n",
      "163 ['IIZ', 'IZZ', 'ZIZ', 'ZZZ']\n",
      "164 ['IX', 'IY', 'IZ', 'XI', 'YI', 'ZI']\n",
      "165 ['XX', 'YY', 'ZZ']\n",
      "166 ['IX', 'IY', 'IZ', 'XI', 'YI', 'ZI']\n",
      "167 ['IIX', 'IZX', 'ZIX', 'ZZX']\n",
      "168 ['IX', 'IY', 'IZ', 'XI', 'YI', 'ZI']\n",
      "169 ['XX', 'YY', 'ZZ']\n",
      "170 ['IX', 'IY', 'IZ', 'XI', 'YI', 'ZI']\n",
      "171 ['IIZ', 'IZZ', 'ZIZ', 'ZZZ']\n",
      "172 ['IX', 'IY', 'IZ', 'XI', 'YI', 'ZI']\n",
      "173 ['XX', 'YY', 'ZZ']\n",
      "174 ['IX', 'IY', 'IZ', 'XI', 'YI', 'ZI']\n",
      "175 ['IIIZ', 'IIZZ', 'IZIZ', 'IZZZ', 'ZIIZ', 'ZIZZ', 'ZZIZ', 'ZZZZ']\n",
      "176 ['IX', 'IY', 'IZ', 'XI', 'YI', 'ZI']\n",
      "177 ['XX', 'YY', 'ZZ']\n",
      "178 ['IX', 'IY', 'IZ', 'XI', 'YI', 'ZI']\n",
      "179 ['IIZ', 'IZZ', 'ZIZ', 'ZZZ']\n",
      "180 ['IX', 'IY', 'IZ', 'XI', 'YI', 'ZI']\n",
      "181 ['XX', 'YY', 'ZZ']\n",
      "182 ['IX', 'IY', 'IZ', 'XI', 'YI', 'ZI']\n",
      "183 ['IIX', 'IZX', 'ZIX', 'ZZX']\n",
      "184 ['IX', 'IY', 'IZ', 'XI', 'YI', 'ZI']\n",
      "185 ['XX', 'YY', 'ZZ']\n",
      "186 ['IX', 'IY', 'IZ', 'XI', 'YI', 'ZI']\n",
      "187 ['IIZ', 'IZZ', 'ZIZ', 'ZZZ']\n",
      "188 ['IX', 'IY', 'IZ', 'XI', 'YI', 'ZI']\n",
      "189 ['XX', 'YY', 'ZZ']\n",
      "190 ['IX', 'IY', 'IZ', 'XI', 'YI', 'ZI']\n",
      "191 ['IIIIZ', 'IIIZZ', 'IIZIZ', 'IIZZZ', 'IZIIZ', 'IZIZZ', 'IZZIZ', 'IZZZZ', 'ZIIIZ', 'ZIIZZ', 'ZIZIZ', 'ZIZZZ', 'ZZIIZ', 'ZZIZZ', 'ZZZIZ', 'ZZZZZ']\n",
      "192 ['IX', 'IY', 'IZ', 'XI', 'YI', 'ZI']\n",
      "193 ['XX', 'YY', 'ZZ']\n",
      "194 ['IX', 'IY', 'IZ', 'XI', 'YI', 'ZI']\n",
      "195 ['IIZ', 'IZZ', 'ZIZ', 'ZZZ']\n",
      "196 ['IX', 'IY', 'IZ', 'XI', 'YI', 'ZI']\n",
      "197 ['XX', 'YY', 'ZZ']\n",
      "198 ['IX', 'IY', 'IZ', 'XI', 'YI', 'ZI']\n",
      "199 ['IIX', 'IZX', 'ZIX', 'ZZX']\n",
      "200 ['IX', 'IY', 'IZ', 'XI', 'YI', 'ZI']\n",
      "201 ['XX', 'YY', 'ZZ']\n",
      "202 ['IX', 'IY', 'IZ', 'XI', 'YI', 'ZI']\n",
      "203 ['IIZ', 'IZZ', 'ZIZ', 'ZZZ']\n",
      "204 ['IX', 'IY', 'IZ', 'XI', 'YI', 'ZI']\n",
      "205 ['XX', 'YY', 'ZZ']\n",
      "206 ['IX', 'IY', 'IZ', 'XI', 'YI', 'ZI']\n",
      "207 ['IIIZ', 'IIZZ', 'IZIZ', 'IZZZ', 'ZIIZ', 'ZIZZ', 'ZZIZ', 'ZZZZ']\n",
      "208 ['IX', 'IY', 'IZ', 'XI', 'YI', 'ZI']\n",
      "209 ['XX', 'YY', 'ZZ']\n",
      "210 ['IX', 'IY', 'IZ', 'XI', 'YI', 'ZI']\n",
      "211 ['IIZ', 'IZZ', 'ZIZ', 'ZZZ']\n",
      "212 ['IX', 'IY', 'IZ', 'XI', 'YI', 'ZI']\n",
      "213 ['XX', 'YY', 'ZZ']\n",
      "214 ['IX', 'IY', 'IZ', 'XI', 'YI', 'ZI']\n",
      "215 ['IIX', 'IZX', 'ZIX', 'ZZX']\n",
      "216 ['IX', 'IY', 'IZ', 'XI', 'YI', 'ZI']\n",
      "217 ['XX', 'YY', 'ZZ']\n",
      "218 ['IX', 'IY', 'IZ', 'XI', 'YI', 'ZI']\n",
      "219 ['IIZ', 'IZZ', 'ZIZ', 'ZZZ']\n",
      "220 ['IX', 'IY', 'IZ', 'XI', 'YI', 'ZI']\n",
      "221 ['XX', 'YY', 'ZZ']\n",
      "222 ['IX', 'IY', 'IZ', 'XI', 'YI', 'ZI']\n"
     ]
    },
    {
     "name": "stdout",
     "output_type": "stream",
     "text": [
      "223 ['IIIX', 'IIZX', 'IZIX', 'IZZX', 'ZIIX', 'ZIZX', 'ZZIX', 'ZZZX']\n",
      "224 ['IX', 'IY', 'IZ', 'XI', 'YI', 'ZI']\n",
      "225 ['XX', 'YY', 'ZZ']\n",
      "226 ['IX', 'IY', 'IZ', 'XI', 'YI', 'ZI']\n",
      "227 ['IIZ', 'IZZ', 'ZIZ', 'ZZZ']\n",
      "228 ['IX', 'IY', 'IZ', 'XI', 'YI', 'ZI']\n",
      "229 ['XX', 'YY', 'ZZ']\n",
      "230 ['IX', 'IY', 'IZ', 'XI', 'YI', 'ZI']\n",
      "231 ['IIX', 'IZX', 'ZIX', 'ZZX']\n",
      "232 ['IX', 'IY', 'IZ', 'XI', 'YI', 'ZI']\n",
      "233 ['XX', 'YY', 'ZZ']\n",
      "234 ['IX', 'IY', 'IZ', 'XI', 'YI', 'ZI']\n",
      "235 ['IIZ', 'IZZ', 'ZIZ', 'ZZZ']\n",
      "236 ['IX', 'IY', 'IZ', 'XI', 'YI', 'ZI']\n",
      "237 ['XX', 'YY', 'ZZ']\n",
      "238 ['IX', 'IY', 'IZ', 'XI', 'YI', 'ZI']\n",
      "239 ['IIIZ', 'IIZZ', 'IZIZ', 'IZZZ', 'ZIIZ', 'ZIZZ', 'ZZIZ', 'ZZZZ']\n",
      "240 ['IX', 'IY', 'IZ', 'XI', 'YI', 'ZI']\n",
      "241 ['XX', 'YY', 'ZZ']\n",
      "242 ['IX', 'IY', 'IZ', 'XI', 'YI', 'ZI']\n",
      "243 ['IIZ', 'IZZ', 'ZIZ', 'ZZZ']\n",
      "244 ['IX', 'IY', 'IZ', 'XI', 'YI', 'ZI']\n",
      "245 ['XX', 'YY', 'ZZ']\n",
      "246 ['IX', 'IY', 'IZ', 'XI', 'YI', 'ZI']\n",
      "247 ['IIX', 'IZX', 'ZIX', 'ZZX']\n",
      "248 ['IX', 'IY', 'IZ', 'XI', 'YI', 'ZI']\n",
      "249 ['XX', 'YY', 'ZZ']\n",
      "250 ['IX', 'IY', 'IZ', 'XI', 'YI', 'ZI']\n",
      "251 ['IIZ', 'IZZ', 'ZIZ', 'ZZZ']\n",
      "252 ['IX', 'IY', 'IZ', 'XI', 'YI', 'ZI']\n",
      "253 ['XX', 'YY', 'ZZ']\n",
      "254 ['IX', 'IY', 'IZ', 'XI', 'YI', 'ZI']\n"
     ]
    }
   ],
   "source": [
    "def sparsed_operator(matrix, n_qubits):\n",
    "    d, _ = matrix.shape\n",
    "    n_add_qubits = n_qubits-int(np.log(d)/np.log(2))\n",
    "    res = copy.copy(matrix)\n",
    "    for i in range(n_add_qubits):\n",
    "        res = np.kron(res, np.eye(2))\n",
    "        \n",
    "    return res\n",
    "\n",
    "for i, M in enumerate(decomp.components()):\n",
    "    print(i, T_e(M))\n",
    "#     print(sparsed_operator(M, n_qubits).shape)\n",
    "    if i==0:\n",
    "        res = sparsed_operator(M, n_qubits)\n",
    "    else:\n",
    "#         res = res @ sparsed_operator(M, n_qubits)\n",
    "        res = res @ sparsed_operator(M, n_qubits)"
   ]
  },
  {
   "cell_type": "code",
   "execution_count": 6,
   "metadata": {},
   "outputs": [
    {
     "name": "stdout",
     "output_type": "stream",
     "text": [
      "[-0.92387953+0.38268343j -0.92387953+0.38268343j -0.92387953+0.38268343j\n",
      " -0.92387953+0.38268343j -0.92387953+0.38268343j -0.92387953+0.38268343j\n",
      " -0.92387953+0.38268343j -0.92387953+0.38268343j -0.92387953+0.38268343j\n",
      " -0.92387953+0.38268343j -0.92387953+0.38268343j -0.92387953+0.38268343j\n",
      " -0.92387953+0.38268343j -0.92387953+0.38268343j -0.92387953+0.38268343j\n",
      " -0.92387953+0.38268343j -0.92387953+0.38268343j -0.92387953+0.38268343j\n",
      " -0.92387953+0.38268343j -0.92387953+0.38268343j -0.92387953+0.38268343j\n",
      " -0.92387953+0.38268343j -0.92387953+0.38268343j -0.92387953+0.38268343j\n",
      " -0.92387953+0.38268343j -0.92387953+0.38268343j -0.92387953+0.38268343j\n",
      " -0.92387953+0.38268343j -0.92387953+0.38268343j -0.92387953+0.38268343j\n",
      " -0.92387953+0.38268343j -0.92387953+0.38268343j]\n",
      "1.4873819962949651e-10\n"
     ]
    }
   ],
   "source": [
    "print(np.diag(res.T.conj()@decomp.U))\n",
    "\n",
    "phase_error = np.diag(res.T.conj()@decomp.U)[0]\n",
    "print(np.linalg.norm(res*phase_error-U))"
   ]
  },
  {
   "cell_type": "markdown",
   "metadata": {},
   "source": [
    "# Часть II. Разложение Картана для эволюции"
   ]
  },
  {
   "cell_type": "markdown",
   "metadata": {},
   "source": [
    "## Задание Гамильтониана"
   ]
  },
  {
   "cell_type": "code",
   "execution_count": 7,
   "metadata": {},
   "outputs": [],
   "source": [
    "B1 = 0.5\n",
    "B2 = -0.5\n",
    "H_true = QubitOperator(((0, 'Z'), (1, 'Z')))+QubitOperator(((0, 'X'),), 0.5)+QubitOperator(((1, 'X'),), -0.5)\n",
    "\n",
    "U = expm(-1j*to_matrix(H_true))"
   ]
  },
  {
   "cell_type": "markdown",
   "metadata": {},
   "source": [
    "## Пункт 1 алгоритма: Определения \"гамильтониановой\" алгебры"
   ]
  },
  {
   "cell_type": "code",
   "execution_count": 8,
   "metadata": {},
   "outputs": [
    {
     "name": "stdout",
     "output_type": "stream",
     "text": [
      "['ZZ', 'XI', 'IX', 'YZ', 'ZY', 'YY']\n"
     ]
    }
   ],
   "source": [
    "algebra_terms = get_hamiltonian_algebra(H_true)\n",
    "\n",
    "print([str(term) for term in algebra_terms])"
   ]
  },
  {
   "cell_type": "markdown",
   "metadata": {},
   "source": [
    "## Пункт 2 алгоритма: Картаново разложение алгебры и определение картановой алгебры"
   ]
  },
  {
   "cell_type": "code",
   "execution_count": 9,
   "metadata": {},
   "outputs": [
    {
     "name": "stdout",
     "output_type": "stream",
     "text": [
      "['ZZ', 'XI', 'IX', 'YY']\n",
      "['YZ', 'ZY']\n",
      "['ZZ', 'YY']\n"
     ]
    }
   ],
   "source": [
    "m_terms, l_terms = get_cartan_decomposition(algebra_terms)\n",
    "h_terms = get_cartan_algebra(m_terms)\n",
    "\n",
    "print([str(term) for term in m_terms])\n",
    "print([str(term) for term in l_terms])\n",
    "print([str(term) for term in h_terms])"
   ]
  },
  {
   "cell_type": "markdown",
   "metadata": {},
   "source": [
    "## Пункт 3 алгоритма: Минимизация функционала по a"
   ]
  },
  {
   "cell_type": "code",
   "execution_count": 10,
   "metadata": {},
   "outputs": [
    {
     "name": "stdout",
     "output_type": "stream",
     "text": [
      "[0.98175347 2.1598454 ]\n",
      "[-0.20710677 -1.20710659]\n"
     ]
    },
    {
     "name": "stderr",
     "output_type": "stream",
     "text": [
      "/home/arthur/Documents/RQC/Railgun/CartanDecompositionHamiltonian.py:82: UserWarning: To copy construct from a tensor, it is recommended to use sourceTensor.clone().detach() or sourceTensor.clone().detach().requires_grad_(True), rather than torch.tensor(sourceTensor).\n",
      "  gamma = torch.tensor(2*np.pi*torch.rand(len(h_list), device=device), requires_grad = False)\n"
     ]
    }
   ],
   "source": [
    "a, gamma = decompose(H_true, l_terms, h_terms)\n",
    "print(a)\n",
    "print(gamma)"
   ]
  },
  {
   "cell_type": "markdown",
   "metadata": {},
   "source": [
    "## Тест"
   ]
  },
  {
   "cell_type": "code",
   "execution_count": 11,
   "metadata": {},
   "outputs": [],
   "source": [
    "ce = CartanEmulation(l_terms, h_terms, a, gamma)"
   ]
  },
  {
   "cell_type": "code",
   "execution_count": 12,
   "metadata": {},
   "outputs": [
    {
     "data": {
      "text/plain": [
       "1.5638547765150843e-05"
      ]
     },
     "execution_count": 12,
     "metadata": {},
     "output_type": "execute_result"
    }
   ],
   "source": [
    "t = np.pi/5\n",
    "\n",
    "np.linalg.norm(ce(t)-expm(-1j*t*to_matrix(H_true)))"
   ]
  },
  {
   "cell_type": "code",
   "execution_count": null,
   "metadata": {},
   "outputs": [],
   "source": []
  }
 ],
 "metadata": {
  "kernelspec": {
   "display_name": "Python 3",
   "language": "python",
   "name": "python3"
  },
  "language_info": {
   "codemirror_mode": {
    "name": "ipython",
    "version": 3
   },
   "file_extension": ".py",
   "mimetype": "text/x-python",
   "name": "python",
   "nbconvert_exporter": "python",
   "pygments_lexer": "ipython3",
   "version": "3.7.3"
  }
 },
 "nbformat": 4,
 "nbformat_minor": 2
}
